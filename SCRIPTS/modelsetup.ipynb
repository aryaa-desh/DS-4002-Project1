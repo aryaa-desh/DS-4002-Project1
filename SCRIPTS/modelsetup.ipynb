{
 "cells": [
  {
   "cell_type": "code",
   "execution_count": null,
   "id": "cd9e5f62",
   "metadata": {},
   "outputs": [
    {
     "name": "stdout",
     "output_type": "stream",
     "text": [
      "Requirement already satisfied: transformers in c:\\users\\lawso\\anaconda3\\envs\\pysparkenv\\lib\\site-packages (4.56.1)\n",
      "Requirement already satisfied: filelock in c:\\users\\lawso\\anaconda3\\envs\\pysparkenv\\lib\\site-packages (from transformers) (3.13.1)\n",
      "Requirement already satisfied: huggingface-hub<1.0,>=0.34.0 in c:\\users\\lawso\\anaconda3\\envs\\pysparkenv\\lib\\site-packages (from transformers) (0.34.5)\n",
      "Requirement already satisfied: numpy>=1.17 in c:\\users\\lawso\\anaconda3\\envs\\pysparkenv\\lib\\site-packages (from transformers) (2.0.0)\n",
      "Requirement already satisfied: packaging>=20.0 in c:\\users\\lawso\\anaconda3\\envs\\pysparkenv\\lib\\site-packages (from transformers) (24.2)\n",
      "Requirement already satisfied: pyyaml>=5.1 in c:\\users\\lawso\\anaconda3\\envs\\pysparkenv\\lib\\site-packages (from transformers) (6.0.2)\n",
      "Requirement already satisfied: regex!=2019.12.17 in c:\\users\\lawso\\anaconda3\\envs\\pysparkenv\\lib\\site-packages (from transformers) (2024.11.6)\n",
      "Requirement already satisfied: requests in c:\\users\\lawso\\anaconda3\\envs\\pysparkenv\\lib\\site-packages (from transformers) (2.32.3)\n",
      "Requirement already satisfied: tokenizers<=0.23.0,>=0.22.0 in c:\\users\\lawso\\anaconda3\\envs\\pysparkenv\\lib\\site-packages (from transformers) (0.22.0)\n",
      "Requirement already satisfied: safetensors>=0.4.3 in c:\\users\\lawso\\anaconda3\\envs\\pysparkenv\\lib\\site-packages (from transformers) (0.6.2)\n",
      "Requirement already satisfied: tqdm>=4.27 in c:\\users\\lawso\\anaconda3\\envs\\pysparkenv\\lib\\site-packages (from transformers) (4.67.1)\n",
      "Requirement already satisfied: fsspec>=2023.5.0 in c:\\users\\lawso\\anaconda3\\envs\\pysparkenv\\lib\\site-packages (from huggingface-hub<1.0,>=0.34.0->transformers) (2024.12.0)\n",
      "Requirement already satisfied: typing-extensions>=3.7.4.3 in c:\\users\\lawso\\anaconda3\\envs\\pysparkenv\\lib\\site-packages (from huggingface-hub<1.0,>=0.34.0->transformers) (4.12.2)\n",
      "Requirement already satisfied: colorama in c:\\users\\lawso\\anaconda3\\envs\\pysparkenv\\lib\\site-packages (from tqdm>=4.27->transformers) (0.4.6)\n",
      "Requirement already satisfied: charset-normalizer<4,>=2 in c:\\users\\lawso\\anaconda3\\envs\\pysparkenv\\lib\\site-packages (from requests->transformers) (3.3.2)\n",
      "Requirement already satisfied: idna<4,>=2.5 in c:\\users\\lawso\\anaconda3\\envs\\pysparkenv\\lib\\site-packages (from requests->transformers) (3.7)\n",
      "Requirement already satisfied: urllib3<3,>=1.21.1 in c:\\users\\lawso\\anaconda3\\envs\\pysparkenv\\lib\\site-packages (from requests->transformers) (2.3.0)\n",
      "Requirement already satisfied: certifi>=2017.4.17 in c:\\users\\lawso\\anaconda3\\envs\\pysparkenv\\lib\\site-packages (from requests->transformers) (2025.1.31)\n",
      "Note: you may need to restart the kernel to use updated packages.\n"
     ]
    }
   ],
   "source": [
    "%pip install transformers\n",
    "%pip install torch"
   ]
  },
  {
   "cell_type": "code",
   "execution_count": 1,
   "id": "e300f971",
   "metadata": {},
   "outputs": [],
   "source": [
    "# imports \n",
    "import pandas as pd\n",
    "from transformers import pipeline\n",
    "import torch "
   ]
  },
  {
   "cell_type": "code",
   "execution_count": 4,
   "id": "ed988cbb",
   "metadata": {},
   "outputs": [
    {
     "name": "stderr",
     "output_type": "stream",
     "text": [
      "Xet Storage is enabled for this repo, but the 'hf_xet' package is not installed. Falling back to regular HTTP download. For better performance, install the package with: `pip install huggingface_hub[hf_xet]` or `pip install hf_xet`\n"
     ]
    },
    {
     "data": {
      "application/vnd.jupyter.widget-view+json": {
       "model_id": "e56135249baf415a9ec53ca60f77d8f9",
       "version_major": 2,
       "version_minor": 0
      },
      "text/plain": [
       "model.safetensors:   0%|          | 0.00/268M [00:00<?, ?B/s]"
      ]
     },
     "metadata": {},
     "output_type": "display_data"
    },
    {
     "name": "stderr",
     "output_type": "stream",
     "text": [
      "c:\\Users\\lawso\\anaconda3\\envs\\pysparkenv\\Lib\\site-packages\\huggingface_hub\\file_download.py:143: UserWarning: `huggingface_hub` cache-system uses symlinks by default to efficiently store duplicated files but your machine does not support them in C:\\Users\\lawso\\.cache\\huggingface\\hub\\models--distilbert-base-uncased-finetuned-sst-2-english. Caching files will still work but in a degraded version that might require more space on your disk. This warning can be disabled by setting the `HF_HUB_DISABLE_SYMLINKS_WARNING` environment variable. For more details, see https://huggingface.co/docs/huggingface_hub/how-to-cache#limitations.\n",
      "To support symlinks on Windows, you either need to activate Developer Mode or to run Python as an administrator. In order to activate developer mode, see this article: https://docs.microsoft.com/en-us/windows/apps/get-started/enable-your-device-for-development\n",
      "  warnings.warn(message)\n"
     ]
    },
    {
     "data": {
      "application/vnd.jupyter.widget-view+json": {
       "model_id": "5cd3bd572ab54ffd8df57d423202ffb3",
       "version_major": 2,
       "version_minor": 0
      },
      "text/plain": [
       "tokenizer_config.json:   0%|          | 0.00/48.0 [00:00<?, ?B/s]"
      ]
     },
     "metadata": {},
     "output_type": "display_data"
    },
    {
     "data": {
      "application/vnd.jupyter.widget-view+json": {
       "model_id": "b74b9913493f421ca34e68da56106b6d",
       "version_major": 2,
       "version_minor": 0
      },
      "text/plain": [
       "vocab.txt:   0%|          | 0.00/232k [00:00<?, ?B/s]"
      ]
     },
     "metadata": {},
     "output_type": "display_data"
    },
    {
     "name": "stderr",
     "output_type": "stream",
     "text": [
      "Device set to use cpu\n"
     ]
    }
   ],
   "source": [
    "# set up the classifier \n",
    "classifier = pipeline(\n",
    "    task=\"text-classification\",\n",
    "    model=\"distilbert-base-uncased-finetuned-sst-2-english\",\n",
    "    dtype=torch.float16,\n",
    "    device=0\n",
    ")"
   ]
  },
  {
   "cell_type": "code",
   "execution_count": 11,
   "id": "dfa7e407",
   "metadata": {},
   "outputs": [
    {
     "name": "stdout",
     "output_type": "stream",
     "text": [
      "0.9998584985733032\n"
     ]
    }
   ],
   "source": [
    "# testing\n",
    "test = classifier(\"I love sandwiches. They are so cool\")\n",
    "print(test[0]['score'])"
   ]
  },
  {
   "cell_type": "code",
   "execution_count": 6,
   "id": "813a52c7",
   "metadata": {},
   "outputs": [],
   "source": [
    "# reading in data\n",
    "data_df = pd.read_csv('clean_reviews.csv')"
   ]
  },
  {
   "cell_type": "code",
   "execution_count": 13,
   "id": "b2a8fa25",
   "metadata": {},
   "outputs": [],
   "source": [
    "# making a function to split on years \n",
    "def make_df(year): \n",
    "    ''' This function takes in a year as a string and \n",
    "    returns a dataframe of all of the reviews from the year \n",
    "    with a new column that has just the year.\n",
    "    '''\n",
    "    year_col = []\n",
    "    year_df = data_df[data_df['reviewTime'].str.contains(year)]\n",
    "    for i in range(year_df.shape[0]):\n",
    "        year_col.append(f'{year}')\n",
    "    year_df['year'] = year_col\n",
    "    return year_df "
   ]
  },
  {
   "cell_type": "code",
   "execution_count": 14,
   "id": "34498bd2",
   "metadata": {},
   "outputs": [
    {
     "name": "stderr",
     "output_type": "stream",
     "text": [
      "C:\\Users\\lawso\\AppData\\Local\\Temp\\ipykernel_28880\\3910657929.py:11: SettingWithCopyWarning: \n",
      "A value is trying to be set on a copy of a slice from a DataFrame.\n",
      "Try using .loc[row_indexer,col_indexer] = value instead\n",
      "\n",
      "See the caveats in the documentation: https://pandas.pydata.org/pandas-docs/stable/user_guide/indexing.html#returning-a-view-versus-a-copy\n",
      "  year_df['year'] = year_col\n",
      "C:\\Users\\lawso\\AppData\\Local\\Temp\\ipykernel_28880\\3910657929.py:11: SettingWithCopyWarning: \n",
      "A value is trying to be set on a copy of a slice from a DataFrame.\n",
      "Try using .loc[row_indexer,col_indexer] = value instead\n",
      "\n",
      "See the caveats in the documentation: https://pandas.pydata.org/pandas-docs/stable/user_guide/indexing.html#returning-a-view-versus-a-copy\n",
      "  year_df['year'] = year_col\n",
      "C:\\Users\\lawso\\AppData\\Local\\Temp\\ipykernel_28880\\3910657929.py:11: SettingWithCopyWarning: \n",
      "A value is trying to be set on a copy of a slice from a DataFrame.\n",
      "Try using .loc[row_indexer,col_indexer] = value instead\n",
      "\n",
      "See the caveats in the documentation: https://pandas.pydata.org/pandas-docs/stable/user_guide/indexing.html#returning-a-view-versus-a-copy\n",
      "  year_df['year'] = year_col\n",
      "C:\\Users\\lawso\\AppData\\Local\\Temp\\ipykernel_28880\\3910657929.py:11: SettingWithCopyWarning: \n",
      "A value is trying to be set on a copy of a slice from a DataFrame.\n",
      "Try using .loc[row_indexer,col_indexer] = value instead\n",
      "\n",
      "See the caveats in the documentation: https://pandas.pydata.org/pandas-docs/stable/user_guide/indexing.html#returning-a-view-versus-a-copy\n",
      "  year_df['year'] = year_col\n",
      "C:\\Users\\lawso\\AppData\\Local\\Temp\\ipykernel_28880\\3910657929.py:11: SettingWithCopyWarning: \n",
      "A value is trying to be set on a copy of a slice from a DataFrame.\n",
      "Try using .loc[row_indexer,col_indexer] = value instead\n",
      "\n",
      "See the caveats in the documentation: https://pandas.pydata.org/pandas-docs/stable/user_guide/indexing.html#returning-a-view-versus-a-copy\n",
      "  year_df['year'] = year_col\n",
      "C:\\Users\\lawso\\AppData\\Local\\Temp\\ipykernel_28880\\3910657929.py:11: SettingWithCopyWarning: \n",
      "A value is trying to be set on a copy of a slice from a DataFrame.\n",
      "Try using .loc[row_indexer,col_indexer] = value instead\n",
      "\n",
      "See the caveats in the documentation: https://pandas.pydata.org/pandas-docs/stable/user_guide/indexing.html#returning-a-view-versus-a-copy\n",
      "  year_df['year'] = year_col\n",
      "C:\\Users\\lawso\\AppData\\Local\\Temp\\ipykernel_28880\\3910657929.py:11: SettingWithCopyWarning: \n",
      "A value is trying to be set on a copy of a slice from a DataFrame.\n",
      "Try using .loc[row_indexer,col_indexer] = value instead\n",
      "\n",
      "See the caveats in the documentation: https://pandas.pydata.org/pandas-docs/stable/user_guide/indexing.html#returning-a-view-versus-a-copy\n",
      "  year_df['year'] = year_col\n",
      "C:\\Users\\lawso\\AppData\\Local\\Temp\\ipykernel_28880\\3910657929.py:11: SettingWithCopyWarning: \n",
      "A value is trying to be set on a copy of a slice from a DataFrame.\n",
      "Try using .loc[row_indexer,col_indexer] = value instead\n",
      "\n",
      "See the caveats in the documentation: https://pandas.pydata.org/pandas-docs/stable/user_guide/indexing.html#returning-a-view-versus-a-copy\n",
      "  year_df['year'] = year_col\n",
      "C:\\Users\\lawso\\AppData\\Local\\Temp\\ipykernel_28880\\3910657929.py:11: SettingWithCopyWarning: \n",
      "A value is trying to be set on a copy of a slice from a DataFrame.\n",
      "Try using .loc[row_indexer,col_indexer] = value instead\n",
      "\n",
      "See the caveats in the documentation: https://pandas.pydata.org/pandas-docs/stable/user_guide/indexing.html#returning-a-view-versus-a-copy\n",
      "  year_df['year'] = year_col\n",
      "C:\\Users\\lawso\\AppData\\Local\\Temp\\ipykernel_28880\\3910657929.py:11: SettingWithCopyWarning: \n",
      "A value is trying to be set on a copy of a slice from a DataFrame.\n",
      "Try using .loc[row_indexer,col_indexer] = value instead\n",
      "\n",
      "See the caveats in the documentation: https://pandas.pydata.org/pandas-docs/stable/user_guide/indexing.html#returning-a-view-versus-a-copy\n",
      "  year_df['year'] = year_col\n",
      "C:\\Users\\lawso\\AppData\\Local\\Temp\\ipykernel_28880\\3910657929.py:11: SettingWithCopyWarning: \n",
      "A value is trying to be set on a copy of a slice from a DataFrame.\n",
      "Try using .loc[row_indexer,col_indexer] = value instead\n",
      "\n",
      "See the caveats in the documentation: https://pandas.pydata.org/pandas-docs/stable/user_guide/indexing.html#returning-a-view-versus-a-copy\n",
      "  year_df['year'] = year_col\n",
      "C:\\Users\\lawso\\AppData\\Local\\Temp\\ipykernel_28880\\3910657929.py:11: SettingWithCopyWarning: \n",
      "A value is trying to be set on a copy of a slice from a DataFrame.\n",
      "Try using .loc[row_indexer,col_indexer] = value instead\n",
      "\n",
      "See the caveats in the documentation: https://pandas.pydata.org/pandas-docs/stable/user_guide/indexing.html#returning-a-view-versus-a-copy\n",
      "  year_df['year'] = year_col\n",
      "C:\\Users\\lawso\\AppData\\Local\\Temp\\ipykernel_28880\\3910657929.py:11: SettingWithCopyWarning: \n",
      "A value is trying to be set on a copy of a slice from a DataFrame.\n",
      "Try using .loc[row_indexer,col_indexer] = value instead\n",
      "\n",
      "See the caveats in the documentation: https://pandas.pydata.org/pandas-docs/stable/user_guide/indexing.html#returning-a-view-versus-a-copy\n",
      "  year_df['year'] = year_col\n",
      "C:\\Users\\lawso\\AppData\\Local\\Temp\\ipykernel_28880\\3910657929.py:11: SettingWithCopyWarning: \n",
      "A value is trying to be set on a copy of a slice from a DataFrame.\n",
      "Try using .loc[row_indexer,col_indexer] = value instead\n",
      "\n",
      "See the caveats in the documentation: https://pandas.pydata.org/pandas-docs/stable/user_guide/indexing.html#returning-a-view-versus-a-copy\n",
      "  year_df['year'] = year_col\n",
      "C:\\Users\\lawso\\AppData\\Local\\Temp\\ipykernel_28880\\3910657929.py:11: SettingWithCopyWarning: \n",
      "A value is trying to be set on a copy of a slice from a DataFrame.\n",
      "Try using .loc[row_indexer,col_indexer] = value instead\n",
      "\n",
      "See the caveats in the documentation: https://pandas.pydata.org/pandas-docs/stable/user_guide/indexing.html#returning-a-view-versus-a-copy\n",
      "  year_df['year'] = year_col\n",
      "C:\\Users\\lawso\\AppData\\Local\\Temp\\ipykernel_28880\\3910657929.py:11: SettingWithCopyWarning: \n",
      "A value is trying to be set on a copy of a slice from a DataFrame.\n",
      "Try using .loc[row_indexer,col_indexer] = value instead\n",
      "\n",
      "See the caveats in the documentation: https://pandas.pydata.org/pandas-docs/stable/user_guide/indexing.html#returning-a-view-versus-a-copy\n",
      "  year_df['year'] = year_col\n",
      "C:\\Users\\lawso\\AppData\\Local\\Temp\\ipykernel_28880\\3910657929.py:11: SettingWithCopyWarning: \n",
      "A value is trying to be set on a copy of a slice from a DataFrame.\n",
      "Try using .loc[row_indexer,col_indexer] = value instead\n",
      "\n",
      "See the caveats in the documentation: https://pandas.pydata.org/pandas-docs/stable/user_guide/indexing.html#returning-a-view-versus-a-copy\n",
      "  year_df['year'] = year_col\n",
      "C:\\Users\\lawso\\AppData\\Local\\Temp\\ipykernel_28880\\3910657929.py:11: SettingWithCopyWarning: \n",
      "A value is trying to be set on a copy of a slice from a DataFrame.\n",
      "Try using .loc[row_indexer,col_indexer] = value instead\n",
      "\n",
      "See the caveats in the documentation: https://pandas.pydata.org/pandas-docs/stable/user_guide/indexing.html#returning-a-view-versus-a-copy\n",
      "  year_df['year'] = year_col\n",
      "C:\\Users\\lawso\\AppData\\Local\\Temp\\ipykernel_28880\\3910657929.py:11: SettingWithCopyWarning: \n",
      "A value is trying to be set on a copy of a slice from a DataFrame.\n",
      "Try using .loc[row_indexer,col_indexer] = value instead\n",
      "\n",
      "See the caveats in the documentation: https://pandas.pydata.org/pandas-docs/stable/user_guide/indexing.html#returning-a-view-versus-a-copy\n",
      "  year_df['year'] = year_col\n"
     ]
    }
   ],
   "source": [
    "# make data frames of each year\n",
    "year_list = ['2000', '2001', '2002', '2003', '2004', '2005', '2006', '2007', '2008', '2009',\n",
    "             '2010', '2011', '2012', '2013', '2014', '2015', '2016', '2017', '2018']\n",
    "thousand_df = make_df(year_list[0])\n",
    "one_df = make_df(year_list[1])\n",
    "two_df = make_df(year_list[2])\n",
    "three_df = make_df(year_list[3])\n",
    "four_df = make_df(year_list[4])\n",
    "five_df = make_df(year_list[5])\n",
    "six_df = make_df(year_list[6])\n",
    "seven_df = make_df(year_list[7])\n",
    "eight_df = make_df(year_list[8])\n",
    "nine_df = make_df(year_list[9])\n",
    "ten_df = make_df(year_list[10])\n",
    "eleven_df = make_df(year_list[11])\n",
    "twelve_df = make_df(year_list[12])\n",
    "thirteen_df = make_df(year_list[13])\n",
    "fourteen_df = make_df(year_list[14])\n",
    "fifteen_df = make_df(year_list[15])\n",
    "sixteen_df = make_df(year_list[16])\n",
    "seventeen_df = make_df(year_list[17])\n",
    "eighteen_df = make_df(year_list[18])\n"
   ]
  },
  {
   "cell_type": "code",
   "execution_count": null,
   "id": "9695e192",
   "metadata": {},
   "outputs": [],
   "source": [
    "# sentiment function\n",
    "def get_sent(dataframe):\n",
    "    review_list = dataframe['reviewText'].tolist()\n",
    "    scores = []\n",
    "    for i in range(len(review_list)):\n",
    "        score = classifier(review_list[i])\n",
    "        scores.append(score[0]['score'])\n",
    "    return scores"
   ]
  }
 ],
 "metadata": {
  "kernelspec": {
   "display_name": "pysparkenv",
   "language": "python",
   "name": "python3"
  },
  "language_info": {
   "codemirror_mode": {
    "name": "ipython",
    "version": 3
   },
   "file_extension": ".py",
   "mimetype": "text/x-python",
   "name": "python",
   "nbconvert_exporter": "python",
   "pygments_lexer": "ipython3",
   "version": "3.12.0"
  }
 },
 "nbformat": 4,
 "nbformat_minor": 5
}
