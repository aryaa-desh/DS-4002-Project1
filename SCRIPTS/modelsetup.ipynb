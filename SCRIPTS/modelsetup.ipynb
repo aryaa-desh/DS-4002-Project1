{
 "cells": [
  {
   "cell_type": "code",
   "execution_count": null,
   "id": "cd9e5f62",
   "metadata": {},
   "outputs": [
    {
     "name": "stdout",
     "output_type": "stream",
     "text": [
      "Requirement already satisfied: transformers in c:\\users\\lawso\\anaconda3\\envs\\pysparkenv\\lib\\site-packages (4.56.1)\n",
      "Requirement already satisfied: filelock in c:\\users\\lawso\\anaconda3\\envs\\pysparkenv\\lib\\site-packages (from transformers) (3.13.1)\n",
      "Requirement already satisfied: huggingface-hub<1.0,>=0.34.0 in c:\\users\\lawso\\anaconda3\\envs\\pysparkenv\\lib\\site-packages (from transformers) (0.34.5)\n",
      "Requirement already satisfied: numpy>=1.17 in c:\\users\\lawso\\anaconda3\\envs\\pysparkenv\\lib\\site-packages (from transformers) (2.0.0)\n",
      "Requirement already satisfied: packaging>=20.0 in c:\\users\\lawso\\anaconda3\\envs\\pysparkenv\\lib\\site-packages (from transformers) (24.2)\n",
      "Requirement already satisfied: pyyaml>=5.1 in c:\\users\\lawso\\anaconda3\\envs\\pysparkenv\\lib\\site-packages (from transformers) (6.0.2)\n",
      "Requirement already satisfied: regex!=2019.12.17 in c:\\users\\lawso\\anaconda3\\envs\\pysparkenv\\lib\\site-packages (from transformers) (2024.11.6)\n",
      "Requirement already satisfied: requests in c:\\users\\lawso\\anaconda3\\envs\\pysparkenv\\lib\\site-packages (from transformers) (2.32.3)\n",
      "Requirement already satisfied: tokenizers<=0.23.0,>=0.22.0 in c:\\users\\lawso\\anaconda3\\envs\\pysparkenv\\lib\\site-packages (from transformers) (0.22.0)\n",
      "Requirement already satisfied: safetensors>=0.4.3 in c:\\users\\lawso\\anaconda3\\envs\\pysparkenv\\lib\\site-packages (from transformers) (0.6.2)\n",
      "Requirement already satisfied: tqdm>=4.27 in c:\\users\\lawso\\anaconda3\\envs\\pysparkenv\\lib\\site-packages (from transformers) (4.67.1)\n",
      "Requirement already satisfied: fsspec>=2023.5.0 in c:\\users\\lawso\\anaconda3\\envs\\pysparkenv\\lib\\site-packages (from huggingface-hub<1.0,>=0.34.0->transformers) (2024.12.0)\n",
      "Requirement already satisfied: typing-extensions>=3.7.4.3 in c:\\users\\lawso\\anaconda3\\envs\\pysparkenv\\lib\\site-packages (from huggingface-hub<1.0,>=0.34.0->transformers) (4.12.2)\n",
      "Requirement already satisfied: colorama in c:\\users\\lawso\\anaconda3\\envs\\pysparkenv\\lib\\site-packages (from tqdm>=4.27->transformers) (0.4.6)\n",
      "Requirement already satisfied: charset-normalizer<4,>=2 in c:\\users\\lawso\\anaconda3\\envs\\pysparkenv\\lib\\site-packages (from requests->transformers) (3.3.2)\n",
      "Requirement already satisfied: idna<4,>=2.5 in c:\\users\\lawso\\anaconda3\\envs\\pysparkenv\\lib\\site-packages (from requests->transformers) (3.7)\n",
      "Requirement already satisfied: urllib3<3,>=1.21.1 in c:\\users\\lawso\\anaconda3\\envs\\pysparkenv\\lib\\site-packages (from requests->transformers) (2.3.0)\n",
      "Requirement already satisfied: certifi>=2017.4.17 in c:\\users\\lawso\\anaconda3\\envs\\pysparkenv\\lib\\site-packages (from requests->transformers) (2025.1.31)\n",
      "Note: you may need to restart the kernel to use updated packages.\n",
      "Requirement already satisfied: torch in c:\\users\\lawso\\anaconda3\\envs\\pysparkenv\\lib\\site-packages (2.8.0+cu126)\n",
      "Requirement already satisfied: filelock in c:\\users\\lawso\\anaconda3\\envs\\pysparkenv\\lib\\site-packages (from torch) (3.13.1)\n",
      "Requirement already satisfied: typing-extensions>=4.10.0 in c:\\users\\lawso\\anaconda3\\envs\\pysparkenv\\lib\\site-packages (from torch) (4.12.2)\n",
      "Requirement already satisfied: sympy>=1.13.3 in c:\\users\\lawso\\anaconda3\\envs\\pysparkenv\\lib\\site-packages (from torch) (1.13.3)\n",
      "Requirement already satisfied: networkx in c:\\users\\lawso\\anaconda3\\envs\\pysparkenv\\lib\\site-packages (from torch) (3.4.2)\n",
      "Requirement already satisfied: jinja2 in c:\\users\\lawso\\anaconda3\\envs\\pysparkenv\\lib\\site-packages (from torch) (3.1.6)\n",
      "Requirement already satisfied: fsspec in c:\\users\\lawso\\anaconda3\\envs\\pysparkenv\\lib\\site-packages (from torch) (2024.12.0)\n",
      "Requirement already satisfied: setuptools in c:\\users\\lawso\\anaconda3\\envs\\pysparkenv\\lib\\site-packages (from torch) (75.8.0)\n",
      "Requirement already satisfied: mpmath<1.4,>=1.1.0 in c:\\users\\lawso\\anaconda3\\envs\\pysparkenv\\lib\\site-packages (from sympy>=1.13.3->torch) (1.3.0)\n",
      "Requirement already satisfied: MarkupSafe>=2.0 in c:\\users\\lawso\\anaconda3\\envs\\pysparkenv\\lib\\site-packages (from jinja2->torch) (3.0.2)\n",
      "Note: you may need to restart the kernel to use updated packages.\n"
     ]
    }
   ],
   "source": [
    "%pip install transformers\n",
    "%pip install torch"
   ]
  },
  {
   "cell_type": "code",
   "execution_count": 22,
   "id": "e300f971",
   "metadata": {},
   "outputs": [],
   "source": [
    "# imports \n",
    "import pandas as pd\n",
    "from transformers import pipeline\n",
    "import torch \n",
    "import numpy as np"
   ]
  },
  {
   "cell_type": "code",
   "execution_count": 6,
   "id": "ed988cbb",
   "metadata": {},
   "outputs": [
    {
     "name": "stderr",
     "output_type": "stream",
     "text": [
      "Device set to use cpu\n"
     ]
    }
   ],
   "source": [
    "# set up the classifier \n",
    "classifier = pipeline(\n",
    "    task=\"text-classification\",\n",
    "    model=\"distilbert-base-uncased-finetuned-sst-2-english\",\n",
    "    dtype=torch.float16,\n",
    "    device=0\n",
    ")"
   ]
  },
  {
   "cell_type": "code",
   "execution_count": 7,
   "id": "dfa7e407",
   "metadata": {},
   "outputs": [
    {
     "name": "stdout",
     "output_type": "stream",
     "text": [
      "0.9998584985733032\n"
     ]
    }
   ],
   "source": [
    "# testing\n",
    "test = classifier(\"I love sandwiches. They are so cool\")\n",
    "print(test[0]['score'])"
   ]
  },
  {
   "cell_type": "code",
   "execution_count": 8,
   "id": "813a52c7",
   "metadata": {},
   "outputs": [],
   "source": [
    "# reading in data\n",
    "data_df = pd.read_csv('clean_reviews.csv')"
   ]
  },
  {
   "cell_type": "code",
   "execution_count": 9,
   "id": "b2a8fa25",
   "metadata": {},
   "outputs": [],
   "source": [
    "# making a function to split on years \n",
    "def make_df(year): \n",
    "    ''' This function takes in a year as a string and \n",
    "    returns a dataframe of all of the reviews from the year \n",
    "    with a new column that has just the year.\n",
    "    '''\n",
    "    year_col = []\n",
    "    year_df = data_df[data_df['reviewTime'].str.contains(year)]\n",
    "    for i in range(year_df.shape[0]):\n",
    "        year_col.append(f'{year}')\n",
    "    year_df['year'] = year_col\n",
    "    return year_df "
   ]
  },
  {
   "cell_type": "code",
   "execution_count": 10,
   "id": "34498bd2",
   "metadata": {},
   "outputs": [
    {
     "name": "stderr",
     "output_type": "stream",
     "text": [
      "C:\\Users\\lawso\\AppData\\Local\\Temp\\ipykernel_26008\\3910657929.py:11: SettingWithCopyWarning: \n",
      "A value is trying to be set on a copy of a slice from a DataFrame.\n",
      "Try using .loc[row_indexer,col_indexer] = value instead\n",
      "\n",
      "See the caveats in the documentation: https://pandas.pydata.org/pandas-docs/stable/user_guide/indexing.html#returning-a-view-versus-a-copy\n",
      "  year_df['year'] = year_col\n",
      "C:\\Users\\lawso\\AppData\\Local\\Temp\\ipykernel_26008\\3910657929.py:11: SettingWithCopyWarning: \n",
      "A value is trying to be set on a copy of a slice from a DataFrame.\n",
      "Try using .loc[row_indexer,col_indexer] = value instead\n",
      "\n",
      "See the caveats in the documentation: https://pandas.pydata.org/pandas-docs/stable/user_guide/indexing.html#returning-a-view-versus-a-copy\n",
      "  year_df['year'] = year_col\n",
      "C:\\Users\\lawso\\AppData\\Local\\Temp\\ipykernel_26008\\3910657929.py:11: SettingWithCopyWarning: \n",
      "A value is trying to be set on a copy of a slice from a DataFrame.\n",
      "Try using .loc[row_indexer,col_indexer] = value instead\n",
      "\n",
      "See the caveats in the documentation: https://pandas.pydata.org/pandas-docs/stable/user_guide/indexing.html#returning-a-view-versus-a-copy\n",
      "  year_df['year'] = year_col\n",
      "C:\\Users\\lawso\\AppData\\Local\\Temp\\ipykernel_26008\\3910657929.py:11: SettingWithCopyWarning: \n",
      "A value is trying to be set on a copy of a slice from a DataFrame.\n",
      "Try using .loc[row_indexer,col_indexer] = value instead\n",
      "\n",
      "See the caveats in the documentation: https://pandas.pydata.org/pandas-docs/stable/user_guide/indexing.html#returning-a-view-versus-a-copy\n",
      "  year_df['year'] = year_col\n",
      "C:\\Users\\lawso\\AppData\\Local\\Temp\\ipykernel_26008\\3910657929.py:11: SettingWithCopyWarning: \n",
      "A value is trying to be set on a copy of a slice from a DataFrame.\n",
      "Try using .loc[row_indexer,col_indexer] = value instead\n",
      "\n",
      "See the caveats in the documentation: https://pandas.pydata.org/pandas-docs/stable/user_guide/indexing.html#returning-a-view-versus-a-copy\n",
      "  year_df['year'] = year_col\n",
      "C:\\Users\\lawso\\AppData\\Local\\Temp\\ipykernel_26008\\3910657929.py:11: SettingWithCopyWarning: \n",
      "A value is trying to be set on a copy of a slice from a DataFrame.\n",
      "Try using .loc[row_indexer,col_indexer] = value instead\n",
      "\n",
      "See the caveats in the documentation: https://pandas.pydata.org/pandas-docs/stable/user_guide/indexing.html#returning-a-view-versus-a-copy\n",
      "  year_df['year'] = year_col\n",
      "C:\\Users\\lawso\\AppData\\Local\\Temp\\ipykernel_26008\\3910657929.py:11: SettingWithCopyWarning: \n",
      "A value is trying to be set on a copy of a slice from a DataFrame.\n",
      "Try using .loc[row_indexer,col_indexer] = value instead\n",
      "\n",
      "See the caveats in the documentation: https://pandas.pydata.org/pandas-docs/stable/user_guide/indexing.html#returning-a-view-versus-a-copy\n",
      "  year_df['year'] = year_col\n",
      "C:\\Users\\lawso\\AppData\\Local\\Temp\\ipykernel_26008\\3910657929.py:11: SettingWithCopyWarning: \n",
      "A value is trying to be set on a copy of a slice from a DataFrame.\n",
      "Try using .loc[row_indexer,col_indexer] = value instead\n",
      "\n",
      "See the caveats in the documentation: https://pandas.pydata.org/pandas-docs/stable/user_guide/indexing.html#returning-a-view-versus-a-copy\n",
      "  year_df['year'] = year_col\n",
      "C:\\Users\\lawso\\AppData\\Local\\Temp\\ipykernel_26008\\3910657929.py:11: SettingWithCopyWarning: \n",
      "A value is trying to be set on a copy of a slice from a DataFrame.\n",
      "Try using .loc[row_indexer,col_indexer] = value instead\n",
      "\n",
      "See the caveats in the documentation: https://pandas.pydata.org/pandas-docs/stable/user_guide/indexing.html#returning-a-view-versus-a-copy\n",
      "  year_df['year'] = year_col\n",
      "C:\\Users\\lawso\\AppData\\Local\\Temp\\ipykernel_26008\\3910657929.py:11: SettingWithCopyWarning: \n",
      "A value is trying to be set on a copy of a slice from a DataFrame.\n",
      "Try using .loc[row_indexer,col_indexer] = value instead\n",
      "\n",
      "See the caveats in the documentation: https://pandas.pydata.org/pandas-docs/stable/user_guide/indexing.html#returning-a-view-versus-a-copy\n",
      "  year_df['year'] = year_col\n",
      "C:\\Users\\lawso\\AppData\\Local\\Temp\\ipykernel_26008\\3910657929.py:11: SettingWithCopyWarning: \n",
      "A value is trying to be set on a copy of a slice from a DataFrame.\n",
      "Try using .loc[row_indexer,col_indexer] = value instead\n",
      "\n",
      "See the caveats in the documentation: https://pandas.pydata.org/pandas-docs/stable/user_guide/indexing.html#returning-a-view-versus-a-copy\n",
      "  year_df['year'] = year_col\n",
      "C:\\Users\\lawso\\AppData\\Local\\Temp\\ipykernel_26008\\3910657929.py:11: SettingWithCopyWarning: \n",
      "A value is trying to be set on a copy of a slice from a DataFrame.\n",
      "Try using .loc[row_indexer,col_indexer] = value instead\n",
      "\n",
      "See the caveats in the documentation: https://pandas.pydata.org/pandas-docs/stable/user_guide/indexing.html#returning-a-view-versus-a-copy\n",
      "  year_df['year'] = year_col\n",
      "C:\\Users\\lawso\\AppData\\Local\\Temp\\ipykernel_26008\\3910657929.py:11: SettingWithCopyWarning: \n",
      "A value is trying to be set on a copy of a slice from a DataFrame.\n",
      "Try using .loc[row_indexer,col_indexer] = value instead\n",
      "\n",
      "See the caveats in the documentation: https://pandas.pydata.org/pandas-docs/stable/user_guide/indexing.html#returning-a-view-versus-a-copy\n",
      "  year_df['year'] = year_col\n",
      "C:\\Users\\lawso\\AppData\\Local\\Temp\\ipykernel_26008\\3910657929.py:11: SettingWithCopyWarning: \n",
      "A value is trying to be set on a copy of a slice from a DataFrame.\n",
      "Try using .loc[row_indexer,col_indexer] = value instead\n",
      "\n",
      "See the caveats in the documentation: https://pandas.pydata.org/pandas-docs/stable/user_guide/indexing.html#returning-a-view-versus-a-copy\n",
      "  year_df['year'] = year_col\n",
      "C:\\Users\\lawso\\AppData\\Local\\Temp\\ipykernel_26008\\3910657929.py:11: SettingWithCopyWarning: \n",
      "A value is trying to be set on a copy of a slice from a DataFrame.\n",
      "Try using .loc[row_indexer,col_indexer] = value instead\n",
      "\n",
      "See the caveats in the documentation: https://pandas.pydata.org/pandas-docs/stable/user_guide/indexing.html#returning-a-view-versus-a-copy\n",
      "  year_df['year'] = year_col\n",
      "C:\\Users\\lawso\\AppData\\Local\\Temp\\ipykernel_26008\\3910657929.py:11: SettingWithCopyWarning: \n",
      "A value is trying to be set on a copy of a slice from a DataFrame.\n",
      "Try using .loc[row_indexer,col_indexer] = value instead\n",
      "\n",
      "See the caveats in the documentation: https://pandas.pydata.org/pandas-docs/stable/user_guide/indexing.html#returning-a-view-versus-a-copy\n",
      "  year_df['year'] = year_col\n",
      "C:\\Users\\lawso\\AppData\\Local\\Temp\\ipykernel_26008\\3910657929.py:11: SettingWithCopyWarning: \n",
      "A value is trying to be set on a copy of a slice from a DataFrame.\n",
      "Try using .loc[row_indexer,col_indexer] = value instead\n",
      "\n",
      "See the caveats in the documentation: https://pandas.pydata.org/pandas-docs/stable/user_guide/indexing.html#returning-a-view-versus-a-copy\n",
      "  year_df['year'] = year_col\n",
      "C:\\Users\\lawso\\AppData\\Local\\Temp\\ipykernel_26008\\3910657929.py:11: SettingWithCopyWarning: \n",
      "A value is trying to be set on a copy of a slice from a DataFrame.\n",
      "Try using .loc[row_indexer,col_indexer] = value instead\n",
      "\n",
      "See the caveats in the documentation: https://pandas.pydata.org/pandas-docs/stable/user_guide/indexing.html#returning-a-view-versus-a-copy\n",
      "  year_df['year'] = year_col\n",
      "C:\\Users\\lawso\\AppData\\Local\\Temp\\ipykernel_26008\\3910657929.py:11: SettingWithCopyWarning: \n",
      "A value is trying to be set on a copy of a slice from a DataFrame.\n",
      "Try using .loc[row_indexer,col_indexer] = value instead\n",
      "\n",
      "See the caveats in the documentation: https://pandas.pydata.org/pandas-docs/stable/user_guide/indexing.html#returning-a-view-versus-a-copy\n",
      "  year_df['year'] = year_col\n"
     ]
    }
   ],
   "source": [
    "# make data frames of each year\n",
    "year_list = ['2000', '2001', '2002', '2003', '2004', '2005', '2006', '2007', '2008', '2009',\n",
    "             '2010', '2011', '2012', '2013', '2014', '2015', '2016', '2017', '2018']\n",
    "thousand_df = make_df(year_list[0])\n",
    "one_df = make_df(year_list[1])\n",
    "two_df = make_df(year_list[2])\n",
    "three_df = make_df(year_list[3])\n",
    "four_df = make_df(year_list[4])\n",
    "five_df = make_df(year_list[5])\n",
    "six_df = make_df(year_list[6])\n",
    "seven_df = make_df(year_list[7])\n",
    "eight_df = make_df(year_list[8])\n",
    "nine_df = make_df(year_list[9])\n",
    "ten_df = make_df(year_list[10])\n",
    "eleven_df = make_df(year_list[11])\n",
    "twelve_df = make_df(year_list[12])\n",
    "thirteen_df = make_df(year_list[13])\n",
    "fourteen_df = make_df(year_list[14])\n",
    "fifteen_df = make_df(year_list[15])\n",
    "sixteen_df = make_df(year_list[16])\n",
    "seventeen_df = make_df(year_list[17])\n",
    "eighteen_df = make_df(year_list[18])\n"
   ]
  },
  {
   "cell_type": "code",
   "execution_count": 26,
   "id": "9695e192",
   "metadata": {},
   "outputs": [],
   "source": [
    "# sentiment function\n",
    "def get_sent(dataframe):\n",
    "    review_list = dataframe['reviewText'].tolist()\n",
    "    scores = []\n",
    "    for i in range(len(review_list)):\n",
    "        if len(review_list[i]) < 512:\n",
    "            score = classifier(review_list[i])\n",
    "            scores.append(score[0]['score'])\n",
    "        else: \n",
    "            subscores = []\n",
    "            for i in range((round(len(review_list[i]) / 512))):\n",
    "                substring = review_list[i][0 + i*512 :512 + i*512]\n",
    "                subscore = classifier(substring)\n",
    "                subscores.append(subscore[0]['score'])\n",
    "            scores.append(np.mean(subscores))\n",
    "    return scores"
   ]
  },
  {
   "cell_type": "code",
   "execution_count": null,
   "id": "e79902f3",
   "metadata": {},
   "outputs": [],
   "source": [
    "\n"
   ]
  }
 ],
 "metadata": {
  "kernelspec": {
   "display_name": "pysparkenv",
   "language": "python",
   "name": "python3"
  },
  "language_info": {
   "codemirror_mode": {
    "name": "ipython",
    "version": 3
   },
   "file_extension": ".py",
   "mimetype": "text/x-python",
   "name": "python",
   "nbconvert_exporter": "python",
   "pygments_lexer": "ipython3",
   "version": "3.12.0"
  }
 },
 "nbformat": 4,
 "nbformat_minor": 5
}
