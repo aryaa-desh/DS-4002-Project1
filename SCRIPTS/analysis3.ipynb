{
 "cells": [
  {
   "cell_type": "code",
   "execution_count": 47,
   "id": "5759be35",
   "metadata": {},
   "outputs": [],
   "source": [
    "# This script does does analysis on the data\n",
    "# This script requires access to the results.csv"
   ]
  },
  {
   "cell_type": "code",
   "execution_count": 48,
   "id": "e6b9a770",
   "metadata": {},
   "outputs": [],
   "source": [
    "# imports \n",
    "import pandas as pd\n",
    "import numpy as np\n",
    "from sklearn.metrics import confusion_matrix, precision_score, recall_score, ConfusionMatrixDisplay\n",
    "import matplotlib.pyplot as plt\n",
    "\n"
   ]
  },
  {
   "cell_type": "code",
   "execution_count": 49,
   "id": "87003b78",
   "metadata": {},
   "outputs": [],
   "source": [
    "# reading in data \n",
    "results_df = pd.read_csv('results.csv')"
   ]
  },
  {
   "cell_type": "code",
   "execution_count": null,
   "id": "891261cd",
   "metadata": {},
   "outputs": [
    {
     "data": {
      "text/html": [
       "<div>\n",
       "<style scoped>\n",
       "    .dataframe tbody tr th:only-of-type {\n",
       "        vertical-align: middle;\n",
       "    }\n",
       "\n",
       "    .dataframe tbody tr th {\n",
       "        vertical-align: top;\n",
       "    }\n",
       "\n",
       "    .dataframe thead th {\n",
       "        text-align: right;\n",
       "    }\n",
       "</style>\n",
       "<table border=\"1\" class=\"dataframe\">\n",
       "  <thead>\n",
       "    <tr style=\"text-align: right;\">\n",
       "      <th></th>\n",
       "      <th>overall</th>\n",
       "      <th>reviewTime</th>\n",
       "      <th>reviewerID</th>\n",
       "      <th>asin</th>\n",
       "      <th>style</th>\n",
       "      <th>reviewText</th>\n",
       "      <th>year</th>\n",
       "      <th>sentimentScore</th>\n",
       "      <th>classPrediction</th>\n",
       "    </tr>\n",
       "  </thead>\n",
       "  <tbody>\n",
       "    <tr>\n",
       "      <th>482</th>\n",
       "      <td>positive</td>\n",
       "      <td>12 28, 2007</td>\n",
       "      <td>A1NV2F2U3EAK25</td>\n",
       "      <td>B000050ZRE</td>\n",
       "      <td>{'Color:': ' 0.5827000106'}</td>\n",
       "      <td>As with all Sonnet products I've used, this on...</td>\n",
       "      <td>2007</td>\n",
       "      <td>0.50000</td>\n",
       "      <td>positive</td>\n",
       "    </tr>\n",
       "    <tr>\n",
       "      <th>483</th>\n",
       "      <td>positive</td>\n",
       "      <td>12 27, 2007</td>\n",
       "      <td>A2A8C5BMXMSEV3</td>\n",
       "      <td>B000050ZRE</td>\n",
       "      <td>{'Color:': ' 0.7571453046'}</td>\n",
       "      <td>Bought 3 wireless routers/APs.  This one works...</td>\n",
       "      <td>2007</td>\n",
       "      <td>0.88565</td>\n",
       "      <td>positive</td>\n",
       "    </tr>\n",
       "    <tr>\n",
       "      <th>484</th>\n",
       "      <td>positive</td>\n",
       "      <td>12 19, 2007</td>\n",
       "      <td>A37VWMG8U0OP41</td>\n",
       "      <td>B000050ZRE</td>\n",
       "      <td>{'Color:': ' 0.0986190179'}</td>\n",
       "      <td>Having tried a number of different wireless ne...</td>\n",
       "      <td>2007</td>\n",
       "      <td>0.98780</td>\n",
       "      <td>positive</td>\n",
       "    </tr>\n",
       "    <tr>\n",
       "      <th>485</th>\n",
       "      <td>positive</td>\n",
       "      <td>11 21, 2007</td>\n",
       "      <td>A2E6P8E66HNRRC</td>\n",
       "      <td>B000050ZRE</td>\n",
       "      <td>{'Color:': ' 0.3587920825'}</td>\n",
       "      <td>Easy to install on XP machine, drivers worked ...</td>\n",
       "      <td>2007</td>\n",
       "      <td>0.95950</td>\n",
       "      <td>positive</td>\n",
       "    </tr>\n",
       "    <tr>\n",
       "      <th>486</th>\n",
       "      <td>positive</td>\n",
       "      <td>10 25, 2007</td>\n",
       "      <td>A1K0XNQWQFQ3LX</td>\n",
       "      <td>B000050ZRE</td>\n",
       "      <td>{'Color:': ' 0.7363169911'}</td>\n",
       "      <td>This was exactly what I needed.  The Company p...</td>\n",
       "      <td>2007</td>\n",
       "      <td>0.86320</td>\n",
       "      <td>positive</td>\n",
       "    </tr>\n",
       "  </tbody>\n",
       "</table>\n",
       "</div>"
      ],
      "text/plain": [
       "      overall   reviewTime      reviewerID        asin  \\\n",
       "482  positive  12 28, 2007  A1NV2F2U3EAK25  B000050ZRE   \n",
       "483  positive  12 27, 2007  A2A8C5BMXMSEV3  B000050ZRE   \n",
       "484  positive  12 19, 2007  A37VWMG8U0OP41  B000050ZRE   \n",
       "485  positive  11 21, 2007  A2E6P8E66HNRRC  B000050ZRE   \n",
       "486  positive  10 25, 2007  A1K0XNQWQFQ3LX  B000050ZRE   \n",
       "\n",
       "                           style  \\\n",
       "482  {'Color:': ' 0.5827000106'}   \n",
       "483  {'Color:': ' 0.7571453046'}   \n",
       "484  {'Color:': ' 0.0986190179'}   \n",
       "485  {'Color:': ' 0.3587920825'}   \n",
       "486  {'Color:': ' 0.7363169911'}   \n",
       "\n",
       "                                            reviewText  year  sentimentScore  \\\n",
       "482  As with all Sonnet products I've used, this on...  2007         0.50000   \n",
       "483  Bought 3 wireless routers/APs.  This one works...  2007         0.88565   \n",
       "484  Having tried a number of different wireless ne...  2007         0.98780   \n",
       "485  Easy to install on XP machine, drivers worked ...  2007         0.95950   \n",
       "486  This was exactly what I needed.  The Company p...  2007         0.86320   \n",
       "\n",
       "    classPrediction  \n",
       "482        positive  \n",
       "483        positive  \n",
       "484        positive  \n",
       "485        positive  \n",
       "486        positive  "
      ]
     },
     "execution_count": 50,
     "metadata": {},
     "output_type": "execute_result"
    }
   ],
   "source": [
    "# making data frames of the three time periods we tested on \n",
    "zero_six_df = results_df[results_df['year'].isin([2000, 2001, 2002, 2003, 2004, 2005, 2006])]\n",
    "seven_twelve_df = results_df[results_df['year'].isin([2007, 2008, 2009,2010, 2011, 2012])]\n",
    "thirteen_eighteen_df = results_df[results_df['year'].isin([2013, 2014, 2015, 2016, 2017, 2018])]\n",
    "\n",
    "seven_twelve_df.head()"
   ]
  },
  {
   "cell_type": "code",
   "execution_count": null,
   "id": "ef81b249",
   "metadata": {},
   "outputs": [
    {
     "name": "stdout",
     "output_type": "stream",
     "text": [
      "0.825873132780083 0.819225028912876 0.757594926419061\n"
     ]
    }
   ],
   "source": [
    "# finding the means of the sentiment scores for each time period\n",
    "zero_six_mean = zero_six_df['sentimentScore'].mean()\n",
    "seven_twelve_mean = seven_twelve_df['sentimentScore'].mean()\n",
    "thirteen_eighteen_mean = thirteen_eighteen_df['sentimentScore'].mean()\n",
    "\n",
    "# printing the means\n",
    "print(zero_six_mean, seven_twelve_mean, thirteen_eighteen_mean)"
   ]
  },
  {
   "cell_type": "code",
   "execution_count": 52,
   "id": "546ee0ae",
   "metadata": {},
   "outputs": [],
   "source": [
    "# making a confusion matrix to see model accuracy\n",
    "y_true = results_df['overall']\n",
    "y_pred = results_df['classPrediction']\n",
    "conf_matrix = confusion_matrix(y_true, y_pred)"
   ]
  },
  {
   "cell_type": "code",
   "execution_count": null,
   "id": "b2d1c217",
   "metadata": {},
   "outputs": [
    {
     "data": {
      "image/png": "[encoded data removed]",
      "text/plain": [
       "<Figure size 640x480 with 2 Axes>"
      ]
     },
     "metadata": {},
     "output_type": "display_data"
    }
   ],
   "source": [
    "# displaying the confusion matrix\n",
    "cm_display = ConfusionMatrixDisplay(confusion_matrix=conf_matrix)\n",
    "cm_display.plot()\n",
    "plt.show()"
   ]
  },
  {
   "cell_type": "code",
   "execution_count": 54,
   "id": "8e0de9f6",
   "metadata": {},
   "outputs": [
    {
     "name": "stdout",
     "output_type": "stream",
     "text": [
      "0.8782524613220816 0.9437936897789533\n"
     ]
    }
   ],
   "source": [
    "# finding recall and precision scores\n",
    "precision = precision_score(y_true, y_pred, average = 'binary', pos_label= 'positive')\n",
    "recall = recall_score(y_true, y_pred, average = 'binary', pos_label= 'positive')\n",
    "print(precision, recall)"
   ]
  }
 ],
 "metadata": {
  "kernelspec": {
   "display_name": "pysparkenv",
   "language": "python",
   "name": "python3"
  },
  "language_info": {
   "codemirror_mode": {
    "name": "ipython",
    "version": 3
   },
   "file_extension": ".py",
   "mimetype": "text/x-python",
   "name": "python",
   "nbconvert_exporter": "python",
   "pygments_lexer": "ipython3",
   "version": "3.12.0"
  }
 },
 "nbformat": 4,
 "nbformat_minor": 5
}
